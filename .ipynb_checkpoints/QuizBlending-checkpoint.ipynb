{
 "cells": [
  {
   "cell_type": "code",
   "execution_count": 2,
   "metadata": {
    "collapsed": true
   },
   "outputs": [],
   "source": [
    "import numpy as np"
   ]
  },
  {
   "cell_type": "code",
   "execution_count": 5,
   "metadata": {},
   "outputs": [],
   "source": [
    "N = 2749898 # number of lines in the test prediction file\n",
    "# P = 16      # number of models\n",
    "P = 35\n",
    "\n",
    "X = np.ndarray((N, P))\n",
    "RMSEs = np.ndarray(N)\n",
    "\n",
    "# Each column is a prediction vector\n",
    "i = 0\n",
    "X[:, i] = np.loadtxt(\"../test/baseline_1.21633.dta\")\n",
    "RMSEs[i] = 1.21633\n",
    "i += 1\n",
    "X[:, i] = np.loadtxt(\"../test/baseline_pred_aggregate_test_1.01253.dta\")\n",
    "RMSEs[i] = 1.01253\n",
    "i += 1\n",
    "X[:, i] = np.loadtxt(\"../test/baseline_pred_with_bias_test_1.0434.dta\")\n",
    "RMSEs[i] = 1.0434\n",
    "i += 1\n",
    "X[:, i] = np.loadtxt(\"../test/rbm_0.90364.dta\")\n",
    "RMSEs[i] = 0.90364\n",
    "i += 1\n",
    "X[:, i] = np.loadtxt(\"../test/rbm_epochs_50_test_0.91534.dta\")\n",
    "RMSEs[i] = 0.91534\n",
    "i += 1\n",
    "X[:, i] = np.loadtxt(\"../test/svd_ 0.95644.dta\")\n",
    "RMSEs[i] = 0.95644\n",
    "i += 1\n",
    "X[:, i] = np.loadtxt(\"../test/svd_0.928.dta\")\n",
    "RMSEs[i] = 0.928\n",
    "i += 1\n",
    "X[:, i] = np.loadtxt(\"../test/svd_0.93894.dta\")\n",
    "RMSEs[i] = 0.93894\n",
    "i += 1\n",
    "X[:, i] = np.loadtxt(\"../test/svd_0.93919.dta\")\n",
    "RMSEs[i] = 0.93919\n",
    "i += 1\n",
    "X[:, i] = np.loadtxt(\"../test/svd_0.96971.dta\")\n",
    "RMSEs[i] = 0.96971\n",
    "i += 1\n",
    "X[:, i] = np.loadtxt(\"../test/svd_0.98683.dta\")\n",
    "RMSEs[i] = 0.98683\n",
    "i += 1\n",
    "X[:, i] = np.loadtxt(\"../test/svd_0.98691.dta\")\n",
    "RMSEs[i] = 0.98691\n",
    "i += 1\n",
    "X[:, i] = np.loadtxt(\"../test/svd_1.06648.dta\")\n",
    "RMSEs[i] = 1.06648\n",
    "i += 1\n",
    "X[:, i] = np.loadtxt(\"../test/svd++_0.90965.dta\")\n",
    "RMSEs[i] = 0.90965\n",
    "i += 1\n",
    "X[:, i] = np.loadtxt(\"../test/svd++_0.91872.dta\")\n",
    "RMSEs[i] = 0.91872\n",
    "i += 1\n",
    "X[:, i] = np.loadtxt(\"../test/test_predictions_svd_bias_250lf_60ep_0.97822.dta\")\n",
    "RMSEs[i] = 0.97822\n",
    "i += 1\n",
    "X[:, i] = np.loadtxt(\"../test/test_predictions_svd++_bias_100lf_22e_ 0.92638.dta\")\n",
    "RMSEs[i] = 0.92638\n",
    "i += 1\n",
    "X[:, i] = np.loadtxt(\"../test/test_predictions_svd++_bias_125lf_.92555.dta\")\n",
    "RMSEs[i] = .92555\n",
    "i += 1\n",
    "X[:, i] = np.loadtxt(\"../test/test_predictions_svd++_bias_250lf_10ep_1.00403.dta\")\n",
    "RMSEs[i] = 1.00403\n",
    "i += 1\n",
    "X[:, i] = np.loadtxt(\"../test/test_predictions_svd++_bias_250lf_20ep_0.98915.dta\")\n",
    "RMSEs[i] = 0.98915\n",
    "i += 1\n",
    "X[:, i] = np.loadtxt(\"../test/test_predictions_svd++_bias_250lf_30epochs_0.98238.dta\")\n",
    "RMSEs[i] = 0.98238\n",
    "i += 1\n",
    "X[:, i] = np.loadtxt(\"../test/test_predictions_timesvd_1_30lf_6ep_0.90457.dta\")\n",
    "RMSEs[i] = 0.90457\n",
    "i += 1\n",
    "X[:, i] = np.loadtxt(\"../test/test_predictions_timesvd_1_100lf_10ep_0.89391.dta\")\n",
    "RMSEs[i] = 0.89391\n",
    "i += 1\n",
    "X[:, i] = np.loadtxt(\"../test/test_predictions_timesvd_2_100lf_11ep_0.89372.dta\")\n",
    "RMSEs[i] = 0.89372\n",
    "i += 1\n",
    "X[:, i] = np.loadtxt(\"../test/test_predictions_timesvd++_1_400lf_10ep_0.89265.dta\")\n",
    "RMSEs[i] = 0.89265\n",
    "i += 1\n",
    "X[:, i] = np.loadtxt(\"../test/test_rbm_0.90429.dta\")\n",
    "RMSEs[i] = 0.90429\n",
    "i += 1\n",
    "X[:, i] = np.loadtxt(\"../test/test_rbm_lf_250_epochs_10_0.91177.dta\")\n",
    "RMSEs[i] = 0.91177\n",
    "i += 1\n",
    "X[:, i] = np.loadtxt(\"../test/timesvd_0.89785.dta\")\n",
    "RMSEs[i] = 0.89785\n",
    "i += 1\n",
    "X[:, i] = np.loadtxt(\"../test/timesvd_0.90043.dta\")\n",
    "RMSEs[i] = 0.90043\n",
    "i += 1\n",
    "X[:, i] = np.loadtxt(\"../test/timesvd_0.90661.dta\")\n",
    "RMSEs[i] = 0.90661\n",
    "i += 1\n",
    "X[:, i] = np.loadtxt(\"../test/timesvd++_0.90687.dta\")\n",
    "RMSEs[i] = 0.90687\n",
    "i += 1\n",
    "X[:, i] = np.loadtxt(\"../test/timesvd++_0.90784.dta\")\n",
    "RMSEs[i] = 0.90784\n",
    "i += 1\n",
    "X[:, i] = np.loadtxt(\"../test/knn_1.16693.dta\")\n",
    "RMSEs[i] = 1.16693\n",
    "i += 1"
   ]
  },
  {
   "cell_type": "code",
   "execution_count": 6,
   "metadata": {},
   "outputs": [
    {
     "name": "stdout",
     "output_type": "stream",
     "text": [
      "(2749898, 23)\n"
     ]
    }
   ],
   "source": [
    "print(X.shape)\n",
    "print(RMSEs.shape)"
   ]
  },
  {
   "cell_type": "code",
   "execution_count": 7,
   "metadata": {
    "collapsed": true
   },
   "outputs": [],
   "source": [
    "M1 = np.transpose(X)\n",
    "M1 = np.dot(M1, X)\n",
    "M1 = np.linalg.inv(M1)"
   ]
  },
  {
   "cell_type": "code",
   "execution_count": 8,
   "metadata": {
    "collapsed": true
   },
   "outputs": [],
   "source": [
    "M2 = np.ndarray((P, 1))\n",
    "\n",
    "# Calculate variance of quiz set\n",
    "y_term = N * 3.84358**2\n",
    "\n",
    "for i in range(P):\n",
    "    # Calculate variance of X[i] prediction\n",
    "    x_term = 0.0\n",
    "    for j in range(N):\n",
    "        x_term += X[j][i] ** 2\n",
    "    # Calculate RMSE term\n",
    "    rmse_term = N * (RMSEs[i] ** 2)\n",
    "    # Calculate matrix entry\n",
    "    M2[i] = (x_term + y_term - rmse_term) / 2"
   ]
  },
  {
   "cell_type": "code",
   "execution_count": 9,
   "metadata": {},
   "outputs": [
    {
     "name": "stdout",
     "output_type": "stream",
     "text": [
      "[[-0.00495158]\n",
      " [-0.01057493]\n",
      " [-0.01583854]\n",
      " [ 0.14204295]\n",
      " [-0.08812392]\n",
      " [ 0.14020727]\n",
      " [ 0.0274013 ]\n",
      " [ 0.05458027]\n",
      " [ 0.01560711]\n",
      " [-0.02416696]\n",
      " [-0.02717313]\n",
      " [ 0.02730816]\n",
      " [ 0.03307611]\n",
      " [ 0.07916747]\n",
      " [-0.05298486]\n",
      " [ 0.05073609]\n",
      " [-0.03177823]\n",
      " [ 0.26898345]\n",
      " [-0.0059809 ]\n",
      " [ 0.71571473]\n",
      " [-0.05141022]\n",
      " [-0.27886546]\n",
      " [ 0.05015053]]\n"
     ]
    }
   ],
   "source": [
    "alpha = np.dot(M1, M2)\n",
    "print(alpha)"
   ]
  },
  {
   "cell_type": "code",
   "execution_count": 10,
   "metadata": {
    "collapsed": true
   },
   "outputs": [],
   "source": [
    "predictions = np.dot(X, alpha)"
   ]
  },
  {
   "cell_type": "code",
   "execution_count": 11,
   "metadata": {},
   "outputs": [
    {
     "name": "stdout",
     "output_type": "stream",
     "text": [
      "(2749898, 1)\n"
     ]
    }
   ],
   "source": [
    "print(predictions.shape)"
   ]
  },
  {
   "cell_type": "code",
   "execution_count": 12,
   "metadata": {
    "collapsed": true
   },
   "outputs": [],
   "source": [
    "for i in range(N):\n",
    "    if predictions[i] < 1:\n",
    "        predictions[i] = 1\n",
    "    elif predictions[i] > 5:\n",
    "        predictions[i] = 5"
   ]
  },
  {
   "cell_type": "code",
   "execution_count": 13,
   "metadata": {
    "collapsed": true
   },
   "outputs": [],
   "source": [
    "predictions.tofile(\"../blend3.dta\", sep=\"\\n\")"
   ]
  },
  {
   "cell_type": "code",
   "execution_count": null,
   "metadata": {
    "collapsed": true
   },
   "outputs": [],
   "source": []
  }
 ],
 "metadata": {
  "kernelspec": {
   "display_name": "Python 3",
   "language": "python",
   "name": "python3"
  },
  "language_info": {
   "codemirror_mode": {
    "name": "ipython",
    "version": 3
   },
   "file_extension": ".py",
   "mimetype": "text/x-python",
   "name": "python",
   "nbconvert_exporter": "python",
   "pygments_lexer": "ipython3",
   "version": "3.6.2"
  }
 },
 "nbformat": 4,
 "nbformat_minor": 2
}
