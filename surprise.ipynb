{
 "cells": [
  {
   "cell_type": "code",
   "execution_count": 1,
   "metadata": {
    "collapsed": false,
    "scrolled": true
   },
   "outputs": [],
   "source": [
    "import pandas as pd\n",
    "from surprise import SVD\n",
    "from surprise import Dataset\n",
    "\n",
    "from surprise.model_selection import cross_validate\n",
    "from surprise import accuracy\n",
    "from surprise.model_selection import train_test_split\n",
    "\n",
    "data = pd.read_table('dataset1_shuffled_all.dta',delim_whitespace = True, names = ['User','Movie','Time','Rating'])\n",
    "\n",
    "\n"
   ]
  },
  {
   "cell_type": "code",
   "execution_count": 2,
   "metadata": {
    "collapsed": false
   },
   "outputs": [],
   "source": [
    "data = data.drop(data.columns[2], axis = 1)"
   ]
  },
  {
   "cell_type": "code",
   "execution_count": 3,
   "metadata": {
    "collapsed": false
   },
   "outputs": [],
   "source": [
    "from surprise import Reader\n",
    "reader = Reader(rating_scale=(1,5))\n",
    "data = data.astype('int32')\n"
   ]
  },
  {
   "cell_type": "code",
   "execution_count": 4,
   "metadata": {
    "collapsed": false,
    "scrolled": true
   },
   "outputs": [],
   "source": [
    "r = range(70000000)\n",
    "data1 = data.drop(r,0)"
   ]
  },
  {
   "cell_type": "code",
   "execution_count": 5,
   "metadata": {
    "collapsed": false
   },
   "outputs": [],
   "source": [
    "data2 = Dataset.load_from_df(data1[['User', 'Movie','Rating']], reader)\n",
    "trainset = data2.build_full_trainset()"
   ]
  },
  {
   "cell_type": "code",
   "execution_count": null,
   "metadata": {
    "collapsed": false
   },
   "outputs": [],
   "source": [
    "data"
   ]
  },
  {
   "cell_type": "code",
   "execution_count": null,
   "metadata": {
    "collapsed": false
   },
   "outputs": [],
   "source": []
  },
  {
   "cell_type": "code",
   "execution_count": 6,
   "metadata": {
    "collapsed": false
   },
   "outputs": [
    {
     "name": "stdout",
     "output_type": "stream",
     "text": [
      "Processing epoch 0\n",
      "Processing epoch 1\n",
      "Processing epoch 2\n",
      "Processing epoch 3\n",
      "Processing epoch 4\n",
      "Processing epoch 5\n",
      "Processing epoch 6\n",
      "Processing epoch 7\n",
      "Processing epoch 8\n",
      "Processing epoch 9\n",
      "Processing epoch 10\n",
      "Processing epoch 11\n",
      "Processing epoch 12\n",
      "Processing epoch 13\n",
      "Processing epoch 14\n",
      "Processing epoch 15\n",
      "Processing epoch 16\n",
      "Processing epoch 17\n",
      "Processing epoch 18\n",
      "Processing epoch 19\n"
     ]
    },
    {
     "data": {
      "text/plain": [
       "<surprise.prediction_algorithms.matrix_factorization.SVD at 0x1bac0705a90>"
      ]
     },
     "execution_count": 6,
     "metadata": {},
     "output_type": "execute_result"
    }
   ],
   "source": [
    "# Use the famous SVD algorithm.\n",
    "\n",
    "algo = SVD(verbose = True)\n",
    "algo.fit(trainset)\n",
    "# p = algo.test(testset)"
   ]
  },
  {
   "cell_type": "code",
   "execution_count": null,
   "metadata": {
    "collapsed": true
   },
   "outputs": [],
   "source": [
    "testset = trainset.build_testset()\n",
    "predictions = algo.test(testset, verbose = False)"
   ]
  },
  {
   "cell_type": "code",
   "execution_count": null,
   "metadata": {
    "collapsed": false
   },
   "outputs": [],
   "source": [
    "accuracy.rmse(predictions,verbose=True)"
   ]
  },
  {
   "cell_type": "code",
   "execution_count": 7,
   "metadata": {
    "collapsed": false,
    "scrolled": true
   },
   "outputs": [],
   "source": [
    "testing = pd.read_table('dataset5_unshuffled_all.dta',delim_whitespace = True)\n",
    "testing = testing.drop(testing.columns[3], axis = 1)\n",
    "testing.columns = ['User','Movie','Time']"
   ]
  },
  {
   "cell_type": "code",
   "execution_count": 8,
   "metadata": {
    "collapsed": false
   },
   "outputs": [
    {
     "data": {
      "text/html": [
       "<div>\n",
       "<table border=\"1\" class=\"dataframe\">\n",
       "  <thead>\n",
       "    <tr style=\"text-align: right;\">\n",
       "      <th></th>\n",
       "      <th>User</th>\n",
       "      <th>Movie</th>\n",
       "      <th>Time</th>\n",
       "    </tr>\n",
       "  </thead>\n",
       "  <tbody>\n",
       "    <tr>\n",
       "      <th>0</th>\n",
       "      <td>64563</td>\n",
       "      <td>2</td>\n",
       "      <td>2197</td>\n",
       "    </tr>\n",
       "    <tr>\n",
       "      <th>1</th>\n",
       "      <td>89802</td>\n",
       "      <td>2</td>\n",
       "      <td>2187</td>\n",
       "    </tr>\n",
       "    <tr>\n",
       "      <th>2</th>\n",
       "      <td>99409</td>\n",
       "      <td>2</td>\n",
       "      <td>2190</td>\n",
       "    </tr>\n",
       "    <tr>\n",
       "      <th>3</th>\n",
       "      <td>116389</td>\n",
       "      <td>2</td>\n",
       "      <td>2197</td>\n",
       "    </tr>\n",
       "    <tr>\n",
       "      <th>4</th>\n",
       "      <td>133134</td>\n",
       "      <td>2</td>\n",
       "      <td>2207</td>\n",
       "    </tr>\n",
       "    <tr>\n",
       "      <th>5</th>\n",
       "      <td>133341</td>\n",
       "      <td>2</td>\n",
       "      <td>2218</td>\n",
       "    </tr>\n",
       "    <tr>\n",
       "      <th>6</th>\n",
       "      <td>142185</td>\n",
       "      <td>2</td>\n",
       "      <td>2197</td>\n",
       "    </tr>\n",
       "    <tr>\n",
       "      <th>7</th>\n",
       "      <td>143122</td>\n",
       "      <td>2</td>\n",
       "      <td>2197</td>\n",
       "    </tr>\n",
       "    <tr>\n",
       "      <th>8</th>\n",
       "      <td>146429</td>\n",
       "      <td>2</td>\n",
       "      <td>2183</td>\n",
       "    </tr>\n",
       "    <tr>\n",
       "      <th>9</th>\n",
       "      <td>181143</td>\n",
       "      <td>2</td>\n",
       "      <td>2228</td>\n",
       "    </tr>\n",
       "    <tr>\n",
       "      <th>10</th>\n",
       "      <td>193997</td>\n",
       "      <td>2</td>\n",
       "      <td>2199</td>\n",
       "    </tr>\n",
       "    <tr>\n",
       "      <th>11</th>\n",
       "      <td>201688</td>\n",
       "      <td>2</td>\n",
       "      <td>2203</td>\n",
       "    </tr>\n",
       "    <tr>\n",
       "      <th>12</th>\n",
       "      <td>226583</td>\n",
       "      <td>2</td>\n",
       "      <td>2170</td>\n",
       "    </tr>\n",
       "    <tr>\n",
       "      <th>13</th>\n",
       "      <td>249203</td>\n",
       "      <td>2</td>\n",
       "      <td>2193</td>\n",
       "    </tr>\n",
       "    <tr>\n",
       "      <th>14</th>\n",
       "      <td>261112</td>\n",
       "      <td>2</td>\n",
       "      <td>2200</td>\n",
       "    </tr>\n",
       "    <tr>\n",
       "      <th>15</th>\n",
       "      <td>266329</td>\n",
       "      <td>2</td>\n",
       "      <td>2230</td>\n",
       "    </tr>\n",
       "    <tr>\n",
       "      <th>16</th>\n",
       "      <td>268622</td>\n",
       "      <td>2</td>\n",
       "      <td>2210</td>\n",
       "    </tr>\n",
       "    <tr>\n",
       "      <th>17</th>\n",
       "      <td>294293</td>\n",
       "      <td>2</td>\n",
       "      <td>2205</td>\n",
       "    </tr>\n",
       "    <tr>\n",
       "      <th>18</th>\n",
       "      <td>316299</td>\n",
       "      <td>2</td>\n",
       "      <td>2179</td>\n",
       "    </tr>\n",
       "    <tr>\n",
       "      <th>19</th>\n",
       "      <td>321149</td>\n",
       "      <td>2</td>\n",
       "      <td>2230</td>\n",
       "    </tr>\n",
       "    <tr>\n",
       "      <th>20</th>\n",
       "      <td>321689</td>\n",
       "      <td>2</td>\n",
       "      <td>2181</td>\n",
       "    </tr>\n",
       "    <tr>\n",
       "      <th>21</th>\n",
       "      <td>326356</td>\n",
       "      <td>2</td>\n",
       "      <td>2190</td>\n",
       "    </tr>\n",
       "    <tr>\n",
       "      <th>22</th>\n",
       "      <td>352392</td>\n",
       "      <td>2</td>\n",
       "      <td>2199</td>\n",
       "    </tr>\n",
       "    <tr>\n",
       "      <th>23</th>\n",
       "      <td>363606</td>\n",
       "      <td>2</td>\n",
       "      <td>2214</td>\n",
       "    </tr>\n",
       "    <tr>\n",
       "      <th>24</th>\n",
       "      <td>382169</td>\n",
       "      <td>2</td>\n",
       "      <td>2217</td>\n",
       "    </tr>\n",
       "    <tr>\n",
       "      <th>25</th>\n",
       "      <td>447292</td>\n",
       "      <td>2</td>\n",
       "      <td>2183</td>\n",
       "    </tr>\n",
       "    <tr>\n",
       "      <th>26</th>\n",
       "      <td>1672</td>\n",
       "      <td>3</td>\n",
       "      <td>2049</td>\n",
       "    </tr>\n",
       "    <tr>\n",
       "      <th>27</th>\n",
       "      <td>1942</td>\n",
       "      <td>3</td>\n",
       "      <td>2071</td>\n",
       "    </tr>\n",
       "    <tr>\n",
       "      <th>28</th>\n",
       "      <td>27884</td>\n",
       "      <td>3</td>\n",
       "      <td>2218</td>\n",
       "    </tr>\n",
       "    <tr>\n",
       "      <th>29</th>\n",
       "      <td>28375</td>\n",
       "      <td>3</td>\n",
       "      <td>2233</td>\n",
       "    </tr>\n",
       "    <tr>\n",
       "      <th>...</th>\n",
       "      <td>...</td>\n",
       "      <td>...</td>\n",
       "      <td>...</td>\n",
       "    </tr>\n",
       "    <tr>\n",
       "      <th>2749867</th>\n",
       "      <td>394241</td>\n",
       "      <td>17767</td>\n",
       "      <td>1918</td>\n",
       "    </tr>\n",
       "    <tr>\n",
       "      <th>2749868</th>\n",
       "      <td>400693</td>\n",
       "      <td>17767</td>\n",
       "      <td>2226</td>\n",
       "    </tr>\n",
       "    <tr>\n",
       "      <th>2749869</th>\n",
       "      <td>417753</td>\n",
       "      <td>17767</td>\n",
       "      <td>1865</td>\n",
       "    </tr>\n",
       "    <tr>\n",
       "      <th>2749870</th>\n",
       "      <td>436356</td>\n",
       "      <td>17767</td>\n",
       "      <td>1985</td>\n",
       "    </tr>\n",
       "    <tr>\n",
       "      <th>2749871</th>\n",
       "      <td>4976</td>\n",
       "      <td>17768</td>\n",
       "      <td>2195</td>\n",
       "    </tr>\n",
       "    <tr>\n",
       "      <th>2749872</th>\n",
       "      <td>27283</td>\n",
       "      <td>17768</td>\n",
       "      <td>2224</td>\n",
       "    </tr>\n",
       "    <tr>\n",
       "      <th>2749873</th>\n",
       "      <td>86582</td>\n",
       "      <td>17768</td>\n",
       "      <td>1851</td>\n",
       "    </tr>\n",
       "    <tr>\n",
       "      <th>2749874</th>\n",
       "      <td>100210</td>\n",
       "      <td>17768</td>\n",
       "      <td>1851</td>\n",
       "    </tr>\n",
       "    <tr>\n",
       "      <th>2749875</th>\n",
       "      <td>103795</td>\n",
       "      <td>17768</td>\n",
       "      <td>1851</td>\n",
       "    </tr>\n",
       "    <tr>\n",
       "      <th>2749876</th>\n",
       "      <td>141673</td>\n",
       "      <td>17768</td>\n",
       "      <td>1604</td>\n",
       "    </tr>\n",
       "    <tr>\n",
       "      <th>2749877</th>\n",
       "      <td>201231</td>\n",
       "      <td>17768</td>\n",
       "      <td>2185</td>\n",
       "    </tr>\n",
       "    <tr>\n",
       "      <th>2749878</th>\n",
       "      <td>210087</td>\n",
       "      <td>17768</td>\n",
       "      <td>2212</td>\n",
       "    </tr>\n",
       "    <tr>\n",
       "      <th>2749879</th>\n",
       "      <td>213535</td>\n",
       "      <td>17768</td>\n",
       "      <td>1851</td>\n",
       "    </tr>\n",
       "    <tr>\n",
       "      <th>2749880</th>\n",
       "      <td>225191</td>\n",
       "      <td>17768</td>\n",
       "      <td>1800</td>\n",
       "    </tr>\n",
       "    <tr>\n",
       "      <th>2749881</th>\n",
       "      <td>229651</td>\n",
       "      <td>17768</td>\n",
       "      <td>1851</td>\n",
       "    </tr>\n",
       "    <tr>\n",
       "      <th>2749882</th>\n",
       "      <td>236658</td>\n",
       "      <td>17768</td>\n",
       "      <td>1851</td>\n",
       "    </tr>\n",
       "    <tr>\n",
       "      <th>2749883</th>\n",
       "      <td>270061</td>\n",
       "      <td>17768</td>\n",
       "      <td>2138</td>\n",
       "    </tr>\n",
       "    <tr>\n",
       "      <th>2749884</th>\n",
       "      <td>287919</td>\n",
       "      <td>17768</td>\n",
       "      <td>1851</td>\n",
       "    </tr>\n",
       "    <tr>\n",
       "      <th>2749885</th>\n",
       "      <td>292618</td>\n",
       "      <td>17768</td>\n",
       "      <td>2241</td>\n",
       "    </tr>\n",
       "    <tr>\n",
       "      <th>2749886</th>\n",
       "      <td>310471</td>\n",
       "      <td>17768</td>\n",
       "      <td>1851</td>\n",
       "    </tr>\n",
       "    <tr>\n",
       "      <th>2749887</th>\n",
       "      <td>337235</td>\n",
       "      <td>17768</td>\n",
       "      <td>2228</td>\n",
       "    </tr>\n",
       "    <tr>\n",
       "      <th>2749888</th>\n",
       "      <td>375727</td>\n",
       "      <td>17768</td>\n",
       "      <td>2195</td>\n",
       "    </tr>\n",
       "    <tr>\n",
       "      <th>2749889</th>\n",
       "      <td>395067</td>\n",
       "      <td>17768</td>\n",
       "      <td>2241</td>\n",
       "    </tr>\n",
       "    <tr>\n",
       "      <th>2749890</th>\n",
       "      <td>405294</td>\n",
       "      <td>17768</td>\n",
       "      <td>1851</td>\n",
       "    </tr>\n",
       "    <tr>\n",
       "      <th>2749891</th>\n",
       "      <td>405881</td>\n",
       "      <td>17768</td>\n",
       "      <td>2201</td>\n",
       "    </tr>\n",
       "    <tr>\n",
       "      <th>2749892</th>\n",
       "      <td>419530</td>\n",
       "      <td>17768</td>\n",
       "      <td>1851</td>\n",
       "    </tr>\n",
       "    <tr>\n",
       "      <th>2749893</th>\n",
       "      <td>421606</td>\n",
       "      <td>17768</td>\n",
       "      <td>2185</td>\n",
       "    </tr>\n",
       "    <tr>\n",
       "      <th>2749894</th>\n",
       "      <td>433753</td>\n",
       "      <td>17768</td>\n",
       "      <td>2121</td>\n",
       "    </tr>\n",
       "    <tr>\n",
       "      <th>2749895</th>\n",
       "      <td>448751</td>\n",
       "      <td>17768</td>\n",
       "      <td>2120</td>\n",
       "    </tr>\n",
       "    <tr>\n",
       "      <th>2749896</th>\n",
       "      <td>54322</td>\n",
       "      <td>17769</td>\n",
       "      <td>2231</td>\n",
       "    </tr>\n",
       "  </tbody>\n",
       "</table>\n",
       "<p>2749897 rows × 3 columns</p>\n",
       "</div>"
      ],
      "text/plain": [
       "           User  Movie  Time\n",
       "0         64563      2  2197\n",
       "1         89802      2  2187\n",
       "2         99409      2  2190\n",
       "3        116389      2  2197\n",
       "4        133134      2  2207\n",
       "5        133341      2  2218\n",
       "6        142185      2  2197\n",
       "7        143122      2  2197\n",
       "8        146429      2  2183\n",
       "9        181143      2  2228\n",
       "10       193997      2  2199\n",
       "11       201688      2  2203\n",
       "12       226583      2  2170\n",
       "13       249203      2  2193\n",
       "14       261112      2  2200\n",
       "15       266329      2  2230\n",
       "16       268622      2  2210\n",
       "17       294293      2  2205\n",
       "18       316299      2  2179\n",
       "19       321149      2  2230\n",
       "20       321689      2  2181\n",
       "21       326356      2  2190\n",
       "22       352392      2  2199\n",
       "23       363606      2  2214\n",
       "24       382169      2  2217\n",
       "25       447292      2  2183\n",
       "26         1672      3  2049\n",
       "27         1942      3  2071\n",
       "28        27884      3  2218\n",
       "29        28375      3  2233\n",
       "...         ...    ...   ...\n",
       "2749867  394241  17767  1918\n",
       "2749868  400693  17767  2226\n",
       "2749869  417753  17767  1865\n",
       "2749870  436356  17767  1985\n",
       "2749871    4976  17768  2195\n",
       "2749872   27283  17768  2224\n",
       "2749873   86582  17768  1851\n",
       "2749874  100210  17768  1851\n",
       "2749875  103795  17768  1851\n",
       "2749876  141673  17768  1604\n",
       "2749877  201231  17768  2185\n",
       "2749878  210087  17768  2212\n",
       "2749879  213535  17768  1851\n",
       "2749880  225191  17768  1800\n",
       "2749881  229651  17768  1851\n",
       "2749882  236658  17768  1851\n",
       "2749883  270061  17768  2138\n",
       "2749884  287919  17768  1851\n",
       "2749885  292618  17768  2241\n",
       "2749886  310471  17768  1851\n",
       "2749887  337235  17768  2228\n",
       "2749888  375727  17768  2195\n",
       "2749889  395067  17768  2241\n",
       "2749890  405294  17768  1851\n",
       "2749891  405881  17768  2201\n",
       "2749892  419530  17768  1851\n",
       "2749893  421606  17768  2185\n",
       "2749894  433753  17768  2121\n",
       "2749895  448751  17768  2120\n",
       "2749896   54322  17769  2231\n",
       "\n",
       "[2749897 rows x 3 columns]"
      ]
     },
     "execution_count": 8,
     "metadata": {},
     "output_type": "execute_result"
    }
   ],
   "source": [
    "#testing1 = testing.drop(testing.columns[2], axis = 1)\n",
    "testing1 = testing.astype('int32')\n",
    "testing1"
   ]
  },
  {
   "cell_type": "code",
   "execution_count": 9,
   "metadata": {
    "collapsed": false
   },
   "outputs": [],
   "source": [
    "testing2 = Dataset.load_from_df(testing1[['User', 'Movie','Time']],reader)"
   ]
  },
  {
   "cell_type": "code",
   "execution_count": 10,
   "metadata": {
    "collapsed": false
   },
   "outputs": [],
   "source": [
    "testing2 = testing2.build_full_trainset()"
   ]
  },
  {
   "cell_type": "code",
   "execution_count": 11,
   "metadata": {
    "collapsed": true
   },
   "outputs": [],
   "source": [
    "testing3 = testing2.build_testset()"
   ]
  },
  {
   "cell_type": "code",
   "execution_count": 12,
   "metadata": {
    "collapsed": true
   },
   "outputs": [],
   "source": [
    "predictions2 = algo.test(testing3)"
   ]
  },
  {
   "cell_type": "code",
   "execution_count": 13,
   "metadata": {
    "collapsed": false
   },
   "outputs": [],
   "source": [
    "with open('submission_trial1.csv', 'w') as f:\n",
    "    for i in range(len(predictions2)):\n",
    "        p = predictions2[i].est\n",
    "        f.write(str(p) + '\\n')"
   ]
  },
  {
   "cell_type": "code",
   "execution_count": 14,
   "metadata": {
    "collapsed": false
   },
   "outputs": [
    {
     "data": {
      "text/plain": [
       "2749897"
      ]
     },
     "execution_count": 14,
     "metadata": {},
     "output_type": "execute_result"
    }
   ],
   "source": [
    "len(predictions2)"
   ]
  },
  {
   "cell_type": "code",
   "execution_count": 15,
   "metadata": {
    "collapsed": false
   },
   "outputs": [
    {
     "data": {
      "text/plain": [
       "2749897"
      ]
     },
     "execution_count": 15,
     "metadata": {},
     "output_type": "execute_result"
    }
   ],
   "source": [
    "len(testing3)"
   ]
  },
  {
   "cell_type": "code",
   "execution_count": null,
   "metadata": {
    "collapsed": true
   },
   "outputs": [],
   "source": []
  }
 ],
 "metadata": {
  "kernelspec": {
   "display_name": "Python 3",
   "language": "python",
   "name": "python3"
  },
  "language_info": {
   "codemirror_mode": {
    "name": "ipython",
    "version": 3
   },
   "file_extension": ".py",
   "mimetype": "text/x-python",
   "name": "python",
   "nbconvert_exporter": "python",
   "pygments_lexer": "ipython3",
   "version": "3.6.0"
  }
 },
 "nbformat": 4,
 "nbformat_minor": 2
}
