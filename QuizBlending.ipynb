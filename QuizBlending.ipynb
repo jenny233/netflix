{
 "cells": [
  {
   "cell_type": "code",
   "execution_count": 1,
   "metadata": {
    "collapsed": true
   },
   "outputs": [],
   "source": [
    "import numpy as np"
   ]
  },
  {
   "cell_type": "code",
   "execution_count": 10,
   "metadata": {
    "collapsed": true
   },
   "outputs": [],
   "source": [
    "N = 2749898 # number of lines in the test prediction file\n",
    "# P = 16      # number of models\n",
    "P = 47\n",
    "\n",
    "X = np.ndarray((N, P))\n",
    "RMSEs = np.ndarray(N)\n",
    "\n",
    "# Each column is a prediction vector\n",
    "i = 0\n",
    "X[:, i] = np.loadtxt(\"../test/baseline_1.21633.dta\")\n",
    "RMSEs[i] = 1.21633\n",
    "i += 1\n",
    "X[:, i] = np.loadtxt(\"../test/baseline_pred_aggregate_test_1.01253.dta\")\n",
    "RMSEs[i] = 1.01253\n",
    "i += 1\n",
    "X[:, i] = np.loadtxt(\"../test/baseline_pred_with_bias_test_1.0434.dta\")\n",
    "RMSEs[i] = 1.0434\n",
    "i += 1\n",
    "X[:, i] = np.loadtxt(\"../test/knn_1.16693.dta\")\n",
    "RMSEs[i] = 1.16693\n",
    "i += 1\n",
    "X[:, i] = np.loadtxt(\"../test/libfm_0.92617.dta\")\n",
    "RMSEs[i] = 0.92617\n",
    "i += 1\n",
    "X[:, i] = np.loadtxt(\"../test/libfm_1.0075.dta\")\n",
    "RMSEs[i] = 1.0075\n",
    "i += 1\n",
    "X[:, i] = np.loadtxt(\"../test/rbm_0.90364.dta\")\n",
    "RMSEs[i] = 0.90364\n",
    "i += 1\n",
    "X[:, i] = np.loadtxt(\"../test/rbm_epochs_50_test_0.91534.dta\")\n",
    "RMSEs[i] = 0.91534\n",
    "i += 1\n",
    "X[:, i] = np.loadtxt(\"../test/svd_ 0.95644.dta\")\n",
    "RMSEs[i] = 0.95644\n",
    "i += 1\n",
    "X[:, i] = np.loadtxt(\"../test/svd_0.928.dta\")\n",
    "RMSEs[i] = 0.928\n",
    "i += 1\n",
    "X[:, i] = np.loadtxt(\"../test/svd_0.93894.dta\")\n",
    "RMSEs[i] = 0.93894\n",
    "i += 1\n",
    "X[:, i] = np.loadtxt(\"../test/svd_0.93919.dta\")\n",
    "RMSEs[i] = 0.93919\n",
    "i += 1\n",
    "X[:, i] = np.loadtxt(\"../test/svd_0.96971.dta\")\n",
    "RMSEs[i] = 0.96971\n",
    "i += 1\n",
    "X[:, i] = np.loadtxt(\"../test/svd_0.98683.dta\")\n",
    "RMSEs[i] = 0.98683\n",
    "i += 1\n",
    "X[:, i] = np.loadtxt(\"../test/svd_0.98691.dta\")\n",
    "RMSEs[i] = 0.98691\n",
    "i += 1\n",
    "X[:, i] = np.loadtxt(\"../test/svd_1.06648.dta\")\n",
    "RMSEs[i] = 1.06648\n",
    "i += 1\n",
    "X[:, i] = np.loadtxt(\"../test/svd++_0.90965.dta\")\n",
    "RMSEs[i] = 0.90965\n",
    "i += 1\n",
    "X[:, i] = np.loadtxt(\"../test/svd++_0.91872.dta\")\n",
    "RMSEs[i] = 0.91872\n",
    "i += 1\n",
    "X[:, i] = np.loadtxt(\"../test/test_predictions_svd_bias_250lf_60ep_0.97822.dta\")\n",
    "RMSEs[i] = 0.97822\n",
    "i += 1\n",
    "X[:, i] = np.loadtxt(\"../test/test_predictions_svd++_400lf_20ep_0.90594.dta\")\n",
    "RMSEs[i] = 0.90594\n",
    "i += 1\n",
    "X[:, i] = np.loadtxt(\"../test/test_predictions_svd++_400lf_30ep_0.90253.dta\")\n",
    "RMSEs[i] = 0.90253\n",
    "i += 1\n",
    "X[:, i] = np.loadtxt(\"../test/test_predictions_svd++_400lf_40ep_0.9013.dta\")\n",
    "RMSEs[i] = 0.9013\n",
    "i += 1\n",
    "X[:, i] = np.loadtxt(\"../test/test_predictions_svd++_400lf_50ep_0.90068.dta\")\n",
    "RMSEs[i] = 0.90068\n",
    "i += 1\n",
    "X[:, i] = np.loadtxt(\"../test/test_predictions_svd++_bias_100lf_22e_ 0.92638.dta\")\n",
    "RMSEs[i] = 0.92638\n",
    "i += 1\n",
    "X[:, i] = np.loadtxt(\"../test/test_predictions_svd++_bias_125lf_.92555.dta\")\n",
    "RMSEs[i] = .92555\n",
    "i += 1\n",
    "X[:, i] = np.loadtxt(\"../test/test_predictions_svd++_bias_250lf_10ep_1.00403.dta\")\n",
    "RMSEs[i] = 1.00403\n",
    "i += 1\n",
    "X[:, i] = np.loadtxt(\"../test/test_predictions_svd++_bias_250lf_20ep_0.98915.dta\")\n",
    "RMSEs[i] = 0.98915\n",
    "i += 1\n",
    "X[:, i] = np.loadtxt(\"../test/test_predictions_svd++_bias_250lf_30epochs_0.98238.dta\")\n",
    "RMSEs[i] = 0.98238\n",
    "i += 1\n",
    "X[:, i] = np.loadtxt(\"../test/test_predictions_timesvd_1_30lf_6ep_0.90457.dta\")\n",
    "RMSEs[i] = 0.90457\n",
    "i += 1\n",
    "X[:, i] = np.loadtxt(\"../test/test_predictions_timesvd_1_100lf_10ep_0.89391.dta\")\n",
    "RMSEs[i] = 0.89391\n",
    "i += 1\n",
    "X[:, i] = np.loadtxt(\"../test/test_predictions_timesvd_2_100lf_11ep_0.89372.dta\")\n",
    "RMSEs[i] = 0.89372\n",
    "i += 1\n",
    "X[:, i] = np.loadtxt(\"../test/test_predictions_timesvd_2_1000lf_3ep_0.91654.dta\")\n",
    "RMSEs[i] = 0.91654\n",
    "i += 1\n",
    "X[:, i] = np.loadtxt(\"../test/test_predictions_timesvd_2_1000lf_4ep_0.90904.dta\")\n",
    "RMSEs[i] = 0.90904\n",
    "i += 1\n",
    "X[:, i] = np.loadtxt(\"../test/test_predictions_timesvd++_1_400lf_10ep_0.89265.dta\")\n",
    "RMSEs[i] = 0.89265\n",
    "i += 1\n",
    "X[:, i] = np.loadtxt(\"../test/test_predictions_timesvd++_2_1000lf_6ep_0.90011.dta\")\n",
    "RMSEs[i] = 0.90011\n",
    "i += 1\n",
    "X[:, i] = np.loadtxt(\"../test/test_predictions_timesvd++_2_1000lf_5ep_0.90385.dta\")\n",
    "RMSEs[i] = 0.90385\n",
    "i += 1\n",
    "X[:, i] = np.loadtxt(\"../test/test_predictions_timesvd++_2_1000lf_10ep_0.89198.dta\")\n",
    "RMSEs[i] = 0.89198\n",
    "i += 1\n",
    "X[:, i] = np.loadtxt(\"../test/test_predictions_timesvd++_2_1000lf_11ep_0.89205.dta\")\n",
    "RMSEs[i] = 0.89205\n",
    "i += 1\n",
    "X[:, i] = np.loadtxt(\"../test/test_predictions_timesvd++_2_1000lf_12ep_0.89243.dta\")\n",
    "RMSEs[i] = 0.89243\n",
    "i += 1\n",
    "X[:, i] = np.loadtxt(\"../test/test_rbm_0.90429.dta\")\n",
    "RMSEs[i] = 0.90429\n",
    "i += 1\n",
    "X[:, i] = np.loadtxt(\"../test/test_rbm_lf_250_epochs_10_0.91177.dta\")\n",
    "RMSEs[i] = 0.91177\n",
    "i += 1\n",
    "X[:, i] = np.loadtxt(\"../test/timesvd_0.89785.dta\")\n",
    "RMSEs[i] = 0.89785\n",
    "i += 1\n",
    "X[:, i] = np.loadtxt(\"../test/timesvd_0.90043.dta\")\n",
    "RMSEs[i] = 0.90043\n",
    "i += 1\n",
    "X[:, i] = np.loadtxt(\"../test/timesvd_0.90661.dta\")\n",
    "RMSEs[i] = 0.90661\n",
    "i += 1\n",
    "X[:, i] = np.loadtxt(\"../test/timesvd++_0.90687.dta\")\n",
    "RMSEs[i] = 0.90687\n",
    "i += 1\n",
    "X[:, i] = np.loadtxt(\"../test/timesvd++_0.90784.dta\")\n",
    "RMSEs[i] = 0.90784\n",
    "i += 1"
   ]
  },
  {
   "cell_type": "code",
   "execution_count": 11,
   "metadata": {},
   "outputs": [
    {
     "name": "stdout",
     "output_type": "stream",
     "text": [
      "(2749898, 47)\n",
      "(2749898,)\n"
     ]
    }
   ],
   "source": [
    "print(X.shape)\n",
    "print(RMSEs.shape)"
   ]
  },
  {
   "cell_type": "code",
   "execution_count": 12,
   "metadata": {
    "collapsed": true
   },
   "outputs": [],
   "source": [
    "M1 = np.transpose(X)\n",
    "M1 = np.dot(M1, X)\n",
    "M1 = np.linalg.pinv(M1)"
   ]
  },
  {
   "cell_type": "code",
   "execution_count": 13,
   "metadata": {
    "collapsed": true
   },
   "outputs": [],
   "source": [
    "M2 = np.ndarray((P, 1))\n",
    "\n",
    "# Calculate variance of quiz set\n",
    "y_term = N * 3.84358**2\n",
    "\n",
    "for i in range(P):\n",
    "    # Calculate variance of X[i] prediction\n",
    "    x_term = 0.0\n",
    "    for j in range(N):\n",
    "        x_term += X[j][i] ** 2\n",
    "    # Calculate RMSE term\n",
    "    rmse_term = N * (RMSEs[i] ** 2)\n",
    "    # Calculate matrix entry\n",
    "    M2[i] = (x_term + y_term - rmse_term) / 2"
   ]
  },
  {
   "cell_type": "code",
   "execution_count": 14,
   "metadata": {},
   "outputs": [
    {
     "name": "stdout",
     "output_type": "stream",
     "text": [
      "[[ -7.80871120e-03]\n",
      " [  4.22226585e-02]\n",
      " [ -5.47603475e-02]\n",
      " [  1.21366753e-02]\n",
      " [  1.33870043e-01]\n",
      " [ -7.08311454e-03]\n",
      " [  1.71677089e-01]\n",
      " [  7.85970009e-02]\n",
      " [ -2.68794360e-02]\n",
      " [  6.23504929e-02]\n",
      " [  9.38669255e-03]\n",
      " [  2.18000094e-02]\n",
      " [ -7.95756524e-03]\n",
      " [ -1.35204509e-02]\n",
      " [ -2.65227427e-03]\n",
      " [  1.51265370e-02]\n",
      " [ -3.83467043e-01]\n",
      " [ -1.32965269e-01]\n",
      " [  4.01486002e-02]\n",
      " [ -1.98715646e-01]\n",
      " [  2.18805627e+00]\n",
      " [ -4.72034072e+00]\n",
      " [  3.32881107e+00]\n",
      " [ -7.38420944e-02]\n",
      " [ -3.56672081e-02]\n",
      " [  2.22852039e-02]\n",
      " [ -5.01490948e-02]\n",
      " [  4.33976603e-02]\n",
      " [  5.93475710e-02]\n",
      " [  3.62942499e-02]\n",
      " [ -6.79942653e-03]\n",
      " [  1.03369887e-01]\n",
      " [  1.16278498e-01]\n",
      " [ -2.95863441e-01]\n",
      " [  1.02380551e+00]\n",
      " [ -1.09601902e+00]\n",
      " [  1.85901429e+00]\n",
      " [ -4.39787638e+00]\n",
      " [  2.90744635e+00]\n",
      " [  1.30416374e-01]\n",
      " [ -6.55230970e-02]\n",
      " [  4.62235897e-02]\n",
      " [  2.22829819e-01]\n",
      " [ -1.27677709e-03]\n",
      " [ -1.29838817e-01]\n",
      " [  4.42242917e-02]\n",
      " [  0.00000000e+00]]\n"
     ]
    }
   ],
   "source": [
    "alpha = np.dot(M1, M2)\n",
    "print(alpha)"
   ]
  },
  {
   "cell_type": "code",
   "execution_count": 15,
   "metadata": {},
   "outputs": [
    {
     "name": "stdout",
     "output_type": "stream",
     "text": [
      "(2749898, 1)\n"
     ]
    }
   ],
   "source": [
    "predictions = np.dot(X, alpha)\n",
    "print(predictions.shape)"
   ]
  },
  {
   "cell_type": "code",
   "execution_count": 16,
   "metadata": {
    "collapsed": true
   },
   "outputs": [],
   "source": [
    "for i in range(N):\n",
    "    if predictions[i] < 1:\n",
    "        predictions[i] = 1\n",
    "    elif predictions[i] > 5:\n",
    "        predictions[i] = 5"
   ]
  },
  {
   "cell_type": "code",
   "execution_count": 17,
   "metadata": {
    "collapsed": true
   },
   "outputs": [],
   "source": [
    "predictions.tofile(\"../blend47.dta\", sep=\"\\n\")"
   ]
  },
  {
   "cell_type": "code",
   "execution_count": 18,
   "metadata": {
    "collapsed": true
   },
   "outputs": [],
   "source": [
    "P = 2\n",
    "X = np.ndarray((N, P))\n",
    "RMSEs = np.ndarray(N)\n",
    "i = 0\n",
    "X[:, i] = np.loadtxt(\"../blend47.dta\")\n",
    "RMSEs[i] = 0.87878\n",
    "i += 1\n",
    "\n",
    "X[:, i] = np.loadtxt(\"../test_predictions_svd++_400lf_0.90027.dta\")\n",
    "RMSEs[i] = 0.90027\n",
    "i += 1"
   ]
  },
  {
   "cell_type": "code",
   "execution_count": 19,
   "metadata": {},
   "outputs": [
    {
     "name": "stdout",
     "output_type": "stream",
     "text": [
      "(2749898, 1)\n"
     ]
    }
   ],
   "source": [
    "M1 = np.transpose(X)\n",
    "M1 = np.dot(M1, X)\n",
    "M1 = np.linalg.pinv(M1)\n",
    "\n",
    "M2 = np.ndarray((P, 1))\n",
    "\n",
    "# Calculate variance of quiz set\n",
    "y_term = N * 3.84358**2\n",
    "\n",
    "for i in range(P):\n",
    "    # Calculate variance of X[i] prediction\n",
    "    x_term = 0.0\n",
    "    for j in range(N):\n",
    "        x_term += X[j][i] ** 2\n",
    "    # Calculate RMSE term\n",
    "    rmse_term = N * (RMSEs[i] ** 2)\n",
    "    # Calculate matrix entry\n",
    "    M2[i] = (x_term + y_term - rmse_term) / 2\n",
    "    \n",
    "alpha = np.dot(M1, M2)\n",
    "\n",
    "predictions = np.dot(X, alpha)\n",
    "print(predictions.shape)"
   ]
  },
  {
   "cell_type": "code",
   "execution_count": 20,
   "metadata": {
    "collapsed": true
   },
   "outputs": [],
   "source": [
    "for i in range(N):\n",
    "    if predictions[i] < 1:\n",
    "        predictions[i] = 1\n",
    "    elif predictions[i] > 5:\n",
    "        predictions[i] = 5"
   ]
  },
  {
   "cell_type": "code",
   "execution_count": 21,
   "metadata": {
    "collapsed": true
   },
   "outputs": [],
   "source": [
    "predictions.tofile(\"../blend48.dta\", sep=\"\\n\")"
   ]
  },
  {
   "cell_type": "code",
   "execution_count": null,
   "metadata": {
    "collapsed": true
   },
   "outputs": [],
   "source": []
  }
 ],
 "metadata": {
  "kernelspec": {
   "display_name": "Python 3",
   "language": "python",
   "name": "python3"
  },
  "language_info": {
   "codemirror_mode": {
    "name": "ipython",
    "version": 3
   },
   "file_extension": ".py",
   "mimetype": "text/x-python",
   "name": "python",
   "nbconvert_exporter": "python",
   "pygments_lexer": "ipython3",
   "version": "3.6.2"
  }
 },
 "nbformat": 4,
 "nbformat_minor": 2
}
