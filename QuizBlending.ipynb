{
 "cells": [
  {
   "cell_type": "code",
   "execution_count": 2,
   "metadata": {
    "collapsed": true
   },
   "outputs": [],
   "source": [
    "import numpy as np"
   ]
  },
  {
   "cell_type": "code",
   "execution_count": 6,
   "metadata": {
    "collapsed": true
   },
   "outputs": [],
   "source": [
    "N = 2749898 # number of lines in the test prediction file\n",
    "P = 16      # number of models\n",
    "\n",
    "X = np.ndarray((N, P))\n",
    "t = time.time()\n",
    "# Each column is a prediction vector\n",
    "i = 0\n",
    "# X[:, i] = np.loadtxt(\"../test/baseline_1.21633.dta\")\n",
    "# i += 1\n",
    "X[:, i] = np.loadtxt(\"../test/baseline_pred_aggregate_test_1.01253.dta\")\n",
    "i += 1\n",
    "X[:, i] = np.loadtxt(\"../test/baseline_pred_with_bias_test_1.0434.dta\")\n",
    "i += 1\n",
    "X[:, i] = np.loadtxt(\"../test/rbm_epochs_50_test_0.91534.dta\")\n",
    "i += 1\n",
    "# X[:, i] = np.loadtxt(\"../test/svd_ 0.95644.dta\")\n",
    "# i += 1\n",
    "X[:, i] = np.loadtxt(\"../test/svd_0.928.dta\")\n",
    "i += 1\n",
    "X[:, i] = np.loadtxt(\"../test/svd_0.93894.dta\")\n",
    "i += 1\n",
    "X[:, i] = np.loadtxt(\"../test/svd_0.93919.dta\")\n",
    "i += 1\n",
    "# X[:, i] = np.loadtxt(\"../test/svd_0.96971.dta\")\n",
    "# i += 1\n",
    "# X[:, i] = np.loadtxt(\"../test/svd_0.98683.dta\")\n",
    "# i += 1\n",
    "# X[:, i] = np.loadtxt(\"../test/svd_0.98691.dta\")\n",
    "# i += 1\n",
    "# X[:, i] = np.loadtxt(\"../test/svd_1.06648.dta\")\n",
    "# i += 1\n",
    "X[:, i] = np.loadtxt(\"../test/svd++_0.91872.dta\")\n",
    "i += 1\n",
    "X[:, i] = np.loadtxt(\"../test/test_predictions_svd_bias_250lf_60ep_0.97822.dta\")\n",
    "i += 1\n",
    "X[:, i] = np.loadtxt(\"../test/test_predictions_svd++_bias_100lf_22e_ 0.92638.dta\")\n",
    "i += 1\n",
    "X[:, i] = np.loadtxt(\"../test/test_predictions_svd++_bias_125lf_.92555.dta\")\n",
    "i += 1\n",
    "# X[:, i] = np.loadtxt(\"../test/test_predictions_svd++_bias_250lf_10ep_1.00403.dta\")\n",
    "# i += 1\n",
    "X[:, i] = np.loadtxt(\"../test/test_rbm_0.90429.dta\")\n",
    "i += 1\n",
    "X[:, i] = np.loadtxt(\"../test/test_rbm_lf_250_epochs_10_0.91177.dta\")\n",
    "i += 1\n",
    "X[:, i] = np.loadtxt(\"../test/timesvd_0.89785.dta\")\n",
    "i += 1\n",
    "X[:, i] = np.loadtxt(\"../test/timesvd_0.90043.dta\")\n",
    "i += 1\n",
    "X[:, i] = np.loadtxt(\"../test/timesvd++_0.90687.dta\")\n",
    "i += 1\n",
    "X[:, i] = np.loadtxt(\"../test/timesvd++_0.90784.dta\")\n",
    "i += 1\n",
    "# RMSEs of the models\n",
    "\n",
    "# RMSEs = [1.21633, 1.01253, 1.0434, 0.91534, 0.95644, 0.928,0.93894,0.93919,0.96971, \n",
    "#          0.98683, 0.98691, 1.06648, 0.91872,0.97822,0.92638,0.92555, 1.00403, 0.90429,\n",
    "#          0.91177,0.89785,0.90043,0.90687,0.90784]"
   ]
  },
  {
   "cell_type": "code",
   "execution_count": 9,
   "metadata": {},
   "outputs": [
    {
     "name": "stdout",
     "output_type": "stream",
     "text": [
      "(2749898, 16)\n"
     ]
    }
   ],
   "source": [
    "print(X.shape)\n",
    "RMSEs = [1.01253, 1.0434, 0.91534, 0.928,0.93894,0.93919,\n",
    "         0.91872,0.97822,0.92638,0.92555, 0.90429,\n",
    "         0.91177,0.89785,0.90043,0.90687,0.90784]"
   ]
  },
  {
   "cell_type": "code",
   "execution_count": 10,
   "metadata": {},
   "outputs": [
    {
     "name": "stdout",
     "output_type": "stream",
     "text": [
      "alpha calculation finished\n",
      "prediction calculation finished\n"
     ]
    }
   ],
   "source": [
    "# Manual weighted average\n",
    "predictions = np.ndarray((N, 1))\n",
    "alpha = np.ndarray((P, 1))\n",
    "sum_a = 0\n",
    "for i in range(P):\n",
    "    alpha[i] = 1 / RMSEs[i]\n",
    "    sum_a += alpha[i]\n",
    "for i in range(P):\n",
    "    alpha[i] /= sum_a\n",
    "print(\"alpha calculation finished\")\n",
    "for j in range(N):\n",
    "    predictions[j] = 0\n",
    "    for i in range(P):\n",
    "        predictions[j] += X[j][i] * alpha[i]\n",
    "print(\"prediction calculation finished\")\n",
    "predictions.tofile(\"../blend_weighted_average.dta\", sep=\"\\n\")"
   ]
  },
  {
   "cell_type": "code",
   "execution_count": 17,
   "metadata": {
    "collapsed": true
   },
   "outputs": [],
   "source": [
    "M1 = np.transpose(X)\n",
    "M1 = np.dot(M1, X)\n",
    "M1 = np.linalg.inv(M1)"
   ]
  },
  {
   "cell_type": "code",
   "execution_count": 44,
   "metadata": {
    "collapsed": true
   },
   "outputs": [],
   "source": [
    "M2 = np.ndarray((P, 1))\n",
    "\n",
    "# Calculate variance of quiz set\n",
    "s_term = N * 3.84358**2\n",
    "\n",
    "for i in range(P):\n",
    "    # Calculate variance of X[i] prediction\n",
    "    r_term = 0.0\n",
    "    for j in range(N):\n",
    "        r_term += X[j][i] ** 2\n",
    "    # Calculate RMSE term\n",
    "    rmse_term = N * RMSEs[i]\n",
    "    # Calculate matrix entry\n",
    "    M2[i] = (r_term + s_term - rmse_term) / 2"
   ]
  },
  {
   "cell_type": "code",
   "execution_count": 46,
   "metadata": {},
   "outputs": [
    {
     "name": "stdout",
     "output_type": "stream",
     "text": [
      "[[ 0.52718829]\n",
      " [-0.62799691]\n",
      " [ 0.23090882]\n",
      " [ 0.02913108]\n",
      " [ 0.02358933]\n",
      " [-0.29521772]\n",
      " [ 0.17539991]\n",
      " [-0.07827342]\n",
      " [ 0.25208661]\n",
      " [ 0.0402825 ]\n",
      " [-0.3541266 ]\n",
      " [ 0.56213301]\n",
      " [-0.27745406]\n",
      " [ 0.25884808]\n",
      " [-0.2108917 ]\n",
      " [-0.12394831]\n",
      " [ 0.22909694]\n",
      " [ 0.23696186]\n",
      " [-0.05384566]\n",
      " [ 0.95722319]\n",
      " [-0.50543012]]\n"
     ]
    }
   ],
   "source": [
    "alpha = np.dot(M1, M2)\n",
    "print(alpha)"
   ]
  },
  {
   "cell_type": "code",
   "execution_count": 47,
   "metadata": {
    "collapsed": true
   },
   "outputs": [],
   "source": [
    "predictions = np.dot(X, alpha)"
   ]
  },
  {
   "cell_type": "code",
   "execution_count": 48,
   "metadata": {},
   "outputs": [
    {
     "name": "stdout",
     "output_type": "stream",
     "text": [
      "(2749898, 1)\n"
     ]
    }
   ],
   "source": [
    "print(predictions.shape)"
   ]
  },
  {
   "cell_type": "code",
   "execution_count": 49,
   "metadata": {
    "collapsed": true
   },
   "outputs": [],
   "source": [
    "predictions.tofile(\"../blend2.dta\", sep=\"\\n\")"
   ]
  },
  {
   "cell_type": "code",
   "execution_count": null,
   "metadata": {
    "collapsed": true
   },
   "outputs": [],
   "source": []
  }
 ],
 "metadata": {
  "kernelspec": {
   "display_name": "Python 3",
   "language": "python",
   "name": "python3"
  },
  "language_info": {
   "codemirror_mode": {
    "name": "ipython",
    "version": 3
   },
   "file_extension": ".py",
   "mimetype": "text/x-python",
   "name": "python",
   "nbconvert_exporter": "python",
   "pygments_lexer": "ipython3",
   "version": "3.6.2"
  }
 },
 "nbformat": 4,
 "nbformat_minor": 2
}
